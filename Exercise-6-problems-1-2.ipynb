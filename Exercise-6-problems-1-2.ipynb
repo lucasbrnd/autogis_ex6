{
 "cells": [
  {
   "cell_type": "markdown",
   "metadata": {},
   "source": [
    "# Exercise 6\n",
    "\n",
    "This week we will practice how to work with OpenStreetMap data and conduct network analysis in Python."
   ]
  },
  {
   "cell_type": "markdown",
   "metadata": {
    "deletable": false,
    "editable": false,
    "nbgrader": {
     "cell_type": "markdown",
     "checksum": "be6111c9aa8358ad60c02bbc94dc4d7d",
     "grade": false,
     "grade_id": "cell-40f3565ed1f7dad8",
     "locked": true,
     "schema_version": 3,
     "solution": false
    }
   },
   "source": [
    "## Problem 1 (8 points)\n",
    "\n",
    "There are two csv-files in the [/data](./data) folder:\n",
    "\n",
    "- `origins.csv`\n",
    "- `destinations.csv`\n",
    "\n",
    "The files contain coordinates of the origin and destination points in certain area of the world as latitude and longitude coordinates (decimal degrees). \n",
    "\n",
    "**1: Your task is to find out where the points are located based on the coordinates found in the files** (which city/country?) Use your GIS skills to find out the solution in two different ways."
   ]
  },
  {
   "cell_type": "markdown",
   "metadata": {},
   "source": [
    "A. detect the location using **visualization techniques**; plot the points on top of a background map and see where they are located! "
   ]
  },
  {
   "cell_type": "code",
   "execution_count": null,
   "metadata": {
    "deletable": false,
    "nbgrader": {
     "cell_type": "code",
     "checksum": "59a0b1f1b51a4dcf8f063beb414f8259",
     "grade": true,
     "grade_id": "problem_1_plot_map",
     "locked": false,
     "points": 1,
     "schema_version": 3,
     "solution": true,
     "task": false
    }
   },
   "outputs": [],
   "source": [
    "# REPLACE THE ERROR BELOW WITH YOUR OWN CODE\n",
    "raise NotImplementedError()"
   ]
  },
  {
   "cell_type": "markdown",
   "metadata": {},
   "source": [
    "B. Detect the location using **geocoding techniques**; reverse geocode at least one of the locations (see [hints from geopy documentation](https://geopy.readthedocs.io/en/stable/index.html?highlight=reverse#module-geopy.geocoders)). As output, you should print out information about the location (can be a full address, or just the name of the city):"
   ]
  },
  {
   "cell_type": "code",
   "execution_count": null,
   "metadata": {
    "deletable": false,
    "jupyter": {
     "outputs_hidden": false
    },
    "nbgrader": {
     "cell_type": "code",
     "checksum": "c152fabe13044d214381babe49e44cca",
     "grade": true,
     "grade_id": "problem_1_area_of_interest",
     "locked": false,
     "points": 1,
     "schema_version": 3,
     "solution": true
    }
   },
   "outputs": [],
   "source": [
    "# REPLACE THE ERROR BELOW WITH YOUR OWN CODE\n",
    "raise NotImplementedError()"
   ]
  },
  {
   "cell_type": "markdown",
   "metadata": {
    "deletable": false,
    "editable": false,
    "nbgrader": {
     "cell_type": "markdown",
     "checksum": "697ffb2302a39c6b3a934fda4fe79c62",
     "grade": false,
     "grade_id": "cell-5f8e9329f6654711",
     "locked": true,
     "schema_version": 3,
     "solution": false
    }
   },
   "source": [
    "**2: Retrieve OpenStreetMap data (only streets that can be driven with car) from the area where the points are located.**\n",
    "\n",
    "- Specify a Polygon that covers the **extent where all the points are located*. \n",
    "- Store the extent as a Shapely Polygon stored in a variable called `graph_extent`.\n",
    "- Add a little bit of buffer around the extent for downloading the graph, so that you cover all routes between the points.\n",
    "- See hints from this [week's hints page](https://autogis-site.readthedocs.io/en/latest/lessons/L6/exercise-6.html#hints) on how to define the extent."
   ]
  },
  {
   "cell_type": "code",
   "execution_count": null,
   "metadata": {
    "deletable": false,
    "nbgrader": {
     "cell_type": "code",
     "checksum": "02c8dc075999564d79ade60ebe734688",
     "grade": false,
     "grade_id": "cell-388ce822e4b8d30f",
     "locked": false,
     "schema_version": 3,
     "solution": true,
     "task": false
    }
   },
   "outputs": [],
   "source": [
    "# REPLACE THE ERROR BELOW WITH YOUR OWN CODE\n",
    "raise NotImplementedError()"
   ]
  },
  {
   "cell_type": "code",
   "execution_count": null,
   "metadata": {
    "deletable": false,
    "editable": false,
    "nbgrader": {
     "cell_type": "code",
     "checksum": "45de2e82e51769b42157901b5709fa30",
     "grade": true,
     "grade_id": "problem_1_convex_hull",
     "locked": true,
     "points": 0.75,
     "schema_version": 3,
     "solution": false,
     "task": false
    }
   },
   "outputs": [],
   "source": [
    "# NON-EDITABLE TEST CELL\n",
    "# The extent should be a shapely Polygon\n",
    "print(graph_extent)"
   ]
  },
  {
   "cell_type": "code",
   "execution_count": null,
   "metadata": {
    "deletable": false,
    "editable": false,
    "nbgrader": {
     "cell_type": "code",
     "checksum": "96bed64cdfa9cf3719e0be9b39529f20",
     "grade": true,
     "grade_id": "problem_1_extent_test",
     "locked": true,
     "points": 0.25,
     "schema_version": 3,
     "solution": false,
     "task": false
    }
   },
   "outputs": [],
   "source": [
    "# NON-EDITABLE TEST CELL\n",
    "# The extent should be a shapely Polygon\n",
    "print(type(graph_extent))"
   ]
  },
  {
   "cell_type": "markdown",
   "metadata": {},
   "source": [
    "- Use the polygon to fetch the drivable network data with `.graph_from_polygon()` function \n",
    "- Remember to specify correct `network_type`\n",
    "- see [osmnx docs](https://osmnx.readthedocs.io/en/stable/osmnx.html#osmnx.core.graph_from_polygon) for more details\n",
    "- store the street network a variable called `graph`"
   ]
  },
  {
   "cell_type": "code",
   "execution_count": null,
   "metadata": {
    "deletable": false,
    "nbgrader": {
     "cell_type": "code",
     "checksum": "43ee5b031ba2c6f06c860a2a255f44a2",
     "grade": false,
     "grade_id": "retrieve-osm-data",
     "locked": false,
     "schema_version": 3,
     "solution": true,
     "task": false
    }
   },
   "outputs": [],
   "source": [
    "# REPLACE THE ERROR BELOW WITH YOUR OWN CODE\n",
    "raise NotImplementedError()"
   ]
  },
  {
   "cell_type": "code",
   "execution_count": null,
   "metadata": {
    "deletable": false,
    "editable": false,
    "nbgrader": {
     "cell_type": "code",
     "checksum": "15f1b3029eed20dc635230d9c11b6ad5",
     "grade": true,
     "grade_id": "problem_1_retrieve_osm_data_test",
     "locked": true,
     "points": 0.75,
     "schema_version": 3,
     "solution": false,
     "task": false
    }
   },
   "outputs": [],
   "source": [
    "# NON-EDITABLE TEST CELL\n",
    "# The graph should be a networkx MultiDiGraph\n",
    "print(type(graph))"
   ]
  },
  {
   "cell_type": "code",
   "execution_count": null,
   "metadata": {
    "deletable": false,
    "editable": false,
    "nbgrader": {
     "cell_type": "code",
     "checksum": "fdd5c73974bf95f6ed0acfe4b38ffd31",
     "grade": true,
     "grade_id": "problem_1_graph_size_test",
     "locked": true,
     "points": 0.25,
     "schema_version": 3,
     "solution": false,
     "task": false
    }
   },
   "outputs": [],
   "source": [
    "# NON-EDITABLE TEST CELL\n",
    "# Check the graph size. The example solution graph size is 28756 (don't panic if yours is not exactly the same, you can still proceed!)\n",
    "print(graph.size())"
   ]
  },
  {
   "cell_type": "markdown",
   "metadata": {
    "deletable": false,
    "editable": false,
    "nbgrader": {
     "cell_type": "markdown",
     "checksum": "eac9896152f8be16cf253020a1c79968",
     "grade": false,
     "grade_id": "cell-9b073bb7932a26ab",
     "locked": true,
     "schema_version": 3,
     "solution": false
    }
   },
   "source": [
    "**3: Reproject the data into UTM projection, and plot:**\n",
    "  - the street network (with `gray` color and line width of `0.5` and alpha set to `0.7`)\n",
    "  - the origin points (with `red` color)\n",
    "  - destination points (with `blue` color)\n",
    "  \n",
    "In the end you should have a map that looks something like following:\n",
    "\n",
    "![](img/route_network_with_OD_points.png)"
   ]
  },
  {
   "cell_type": "code",
   "execution_count": null,
   "metadata": {
    "deletable": false,
    "jupyter": {
     "outputs_hidden": false
    },
    "nbgrader": {
     "cell_type": "code",
     "checksum": "c64e08c1049f1d50a76dc65b7e979094",
     "grade": true,
     "grade_id": "problem_1_visualize-graph-and-OD-points",
     "locked": false,
     "points": 4,
     "schema_version": 3,
     "solution": true
    }
   },
   "outputs": [],
   "source": [
    "# REPLACE THE ERROR BELOW WITH YOUR OWN CODE\n",
    "raise NotImplementedError()"
   ]
  },
  {
   "cell_type": "markdown",
   "metadata": {},
   "source": [
    "### Done!\n",
    "\n",
    "That's it! Now you can continue with problem 2. "
   ]
  },
  {
   "cell_type": "markdown",
   "metadata": {
    "deletable": false,
    "editable": false,
    "nbgrader": {
     "cell_type": "markdown",
     "checksum": "f160419ef002d7929e05cf77740b7fa9",
     "grade": false,
     "grade_id": "cell-20712c995ba6bbcf",
     "locked": true,
     "schema_version": 3,
     "solution": false
    }
   },
   "source": [
    "## Problem 2 (12 points)\n",
    "\n",
    "In this problem we practice conducting shortest path routing.\n",
    "\n",
    "### Steps\n",
    "\n",
    "**1: Calculate the shortest paths between all origin points (16) and destination points (20) using the `length` of the road segments as the impedance measure (in total 320 routes).** \n",
    "\n",
    "- To be able to find the shortest paths, you should find the nearest nodes from the graph for both origin and destination points. \n",
    "- Notice: if the closest node is the same for both origin and destination point, you should skip the shortest path calculation. - After the routing, you should add the shortest path routes as LineString geometries into a GeoDataFrame called `routes`. \n",
    "- You should use the projected graph as the network for the analyses\n",
    "- remember to use informative variable names, and to comment your code!"
   ]
  },
  {
   "cell_type": "code",
   "execution_count": null,
   "metadata": {
    "deletable": false,
    "nbgrader": {
     "cell_type": "code",
     "checksum": "7633d99b1ac22f7aa765248ccb959662",
     "grade": true,
     "grade_id": "problem_2_shortest-paths",
     "locked": false,
     "points": 8,
     "schema_version": 3,
     "solution": true
    }
   },
   "outputs": [],
   "source": [
    "# Store the shortest path routes as LineString geometries in a GeoDataFrame called routes:\n",
    "routes = None\n",
    "\n",
    "# REPLACE THE ERROR BELOW WITH YOUR OWN CODE\n",
    "raise NotImplementedError()"
   ]
  },
  {
   "cell_type": "markdown",
   "metadata": {
    "deletable": false,
    "editable": false,
    "nbgrader": {
     "cell_type": "markdown",
     "checksum": "bed972620cac664a0f31afc3ee856f5e",
     "grade": false,
     "grade_id": "cell-3663d3a6be76155f",
     "locked": true,
     "schema_version": 3,
     "solution": false
    }
   },
   "source": [
    "**2: Calculate the distance of the routes in meters into a new column called `route_dist`.**\n",
    " "
   ]
  },
  {
   "cell_type": "code",
   "execution_count": null,
   "metadata": {
    "deletable": false,
    "nbgrader": {
     "cell_type": "code",
     "checksum": "b6b671ccdf652672a74ff6076f3cdf4d",
     "grade": false,
     "grade_id": "problem_2_routes_length_test",
     "locked": false,
     "schema_version": 3,
     "solution": true,
     "task": false
    }
   },
   "outputs": [],
   "source": [
    "# REPLACE THE ERROR BELOW WITH YOUR OWN CODE\n",
    "raise NotImplementedError()"
   ]
  },
  {
   "cell_type": "code",
   "execution_count": null,
   "metadata": {
    "deletable": false,
    "editable": false,
    "nbgrader": {
     "cell_type": "code",
     "checksum": "72483e95f8440f4ccd1d3b56d3b24d2d",
     "grade": true,
     "grade_id": "problem_2_route_dist_column_test",
     "locked": true,
     "points": 0.5,
     "schema_version": 3,
     "solution": false,
     "task": false
    }
   },
   "outputs": [],
   "source": [
    "# NON-EDITABLE TEST CELL\n",
    "print(\"Shortest distance:\", round(routes['route_dist'].min()), \"meters\")"
   ]
  },
  {
   "cell_type": "code",
   "execution_count": null,
   "metadata": {
    "deletable": false,
    "editable": false,
    "nbgrader": {
     "cell_type": "code",
     "checksum": "98355d515c29a9800e5744ae4b25b8f9",
     "grade": true,
     "grade_id": "problem_2_route_dist_column_test2",
     "locked": true,
     "points": 0.5,
     "schema_version": 3,
     "solution": false,
     "task": false
    }
   },
   "outputs": [],
   "source": [
    "# NON-EDITABLE TEST CELL (longest distance in the example solution is 29177 meters)\n",
    "print(\"Longest distance:\", round(routes['route_dist'].max()), \"meters\")"
   ]
  },
  {
   "cell_type": "markdown",
   "metadata": {
    "deletable": false,
    "editable": false,
    "nbgrader": {
     "cell_type": "markdown",
     "checksum": "7345a8bb82125b4011752efa0409c534",
     "grade": false,
     "grade_id": "cell-490f1e8c63b167d4",
     "locked": true,
     "schema_version": 3,
     "solution": false
    }
   },
   "source": [
    "**3: Plot all the routes on top of the street network.** \n",
    "\n",
    "In the end you should have something like following:\n",
    " \n",
    " ![](img/routings.png)"
   ]
  },
  {
   "cell_type": "code",
   "execution_count": null,
   "metadata": {
    "deletable": false,
    "jupyter": {
     "outputs_hidden": false
    },
    "nbgrader": {
     "cell_type": "code",
     "checksum": "ed911ce488832aca4f8d248ebae3cfbb",
     "grade": true,
     "grade_id": "problem_2_plot-optimal-routes_test",
     "locked": false,
     "points": 2,
     "schema_version": 3,
     "solution": true
    }
   },
   "outputs": [],
   "source": [
    "# REPLACE THE ERROR BELOW WITH YOUR OWN CODE\n",
    "raise NotImplementedError()"
   ]
  },
  {
   "cell_type": "markdown",
   "metadata": {
    "deletable": false,
    "editable": false,
    "nbgrader": {
     "cell_type": "markdown",
     "checksum": "682e7f3b22a47ddd3836994153b271c4",
     "grade": false,
     "grade_id": "cell-e6354106b1da73f5",
     "locked": true,
     "schema_version": 3,
     "solution": false
    }
   },
   "source": [
    "**4: Calculate the total distance of all the routes (i.e. sum of all route distances)** Update the `total_distance` based on your calculations:"
   ]
  },
  {
   "cell_type": "code",
   "execution_count": null,
   "metadata": {
    "deletable": false,
    "jupyter": {
     "outputs_hidden": false
    },
    "nbgrader": {
     "cell_type": "code",
     "checksum": "0e8fe1157ebdd0d72ab99ef8016ad495",
     "grade": false,
     "grade_id": "calculate-total-route-distance",
     "locked": false,
     "schema_version": 3,
     "solution": true,
     "task": false
    }
   },
   "outputs": [],
   "source": [
    "total_distance = 0\n",
    "\n",
    "# REPLACE THE ERROR BELOW WITH YOUR OWN CODE\n",
    "raise NotImplementedError()"
   ]
  },
  {
   "cell_type": "code",
   "execution_count": null,
   "metadata": {
    "deletable": false,
    "editable": false,
    "nbgrader": {
     "cell_type": "code",
     "checksum": "ade810237bc2f363cd4cc1aa37c828d3",
     "grade": true,
     "grade_id": "problem_2_final_solution",
     "locked": true,
     "points": 1,
     "schema_version": 3,
     "solution": false,
     "task": false
    }
   },
   "outputs": [],
   "source": [
    "# NON-EDITABLE TEST CELL (example solution: 2468 kilometers)\n",
    "#Print your solution:\n",
    "print(\"Total distance of all routes is: %.0f kilometers\" % (total_distance / 1000))\n"
   ]
  },
  {
   "cell_type": "markdown",
   "metadata": {
    "deletable": false,
    "editable": false,
    "nbgrader": {
     "cell_type": "markdown",
     "checksum": "ec7d6188bbc01d0cebf191db5ddf253e",
     "grade": false,
     "grade_id": "cell-c041243bd4421c06",
     "locked": true,
     "schema_version": 3,
     "solution": false
    }
   },
   "source": [
    "### Done!\n",
    "\n",
    "That's it! Now you have finished all the practical exercises of the course (except final assignment), congratulations! :)"
   ]
  }
 ],
 "metadata": {
  "anaconda-cloud": {},
  "kernelspec": {
   "display_name": "Python 3 (ipykernel)",
   "language": "python",
   "name": "python3"
  },
  "language_info": {
   "codemirror_mode": {
    "name": "ipython",
    "version": 3
   },
   "file_extension": ".py",
   "mimetype": "text/x-python",
   "name": "python",
   "nbconvert_exporter": "python",
   "pygments_lexer": "ipython3",
   "version": "3.8.10"
  }
 },
 "nbformat": 4,
 "nbformat_minor": 4
}
